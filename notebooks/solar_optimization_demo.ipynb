{
 "cells": [
  {
   "cell_type": "markdown",
   "metadata": {},
   "source": [
    "# Solar Energy Optimization System - Demo\n",
    "This notebook shows how to use the Solar Energy Optimization System."
   ]
  },
  {
   "cell_type": "code",
   "execution_count": null,
   "metadata": {},
   "outputs": [],
   "source": [
    "import sys\n",
    "sys.path.append('..')\n",
    "import pandas as pd\n",
    "import numpy as np\n",
    "from src.forecast import EnergyDemandForecaster, SolarProductionForecaster\n",
    "from src.optimizer import EnergyOptimizer\n",
    "from src.utils import load_sample_data\n",
    "import matplotlib.pyplot as plt\n",
    "%matplotlib inline"
   ]
  },
  {
   "cell_type": "markdown",
   "metadata": {},
   "source": [
    "## 1. Load Sample Data\n",
    "Let's load the sample data for demonstration."
   ]
  },
  {
   "cell_type": "code",
   "execution_count": null,
   "metadata": {},
   "outputs": [],
   "source": [
    "# Load sample data\n",
    "data = load_sample_data()\n",
    "demand_df = data['demand']\n",
    "solar_df = data['solar']\n",
    "weather_df = data['weather']\n",
    "\n",
    "# Display first few rows of each dataset\n",
    "print(\"Demand Data:\")\n",
    "display(demand_df.head())\n",
    "\n",
    "print(\"\\nSolar Production Data:\")\n",
    "display(solar_df.head())\n",
    "\n",
    "print(\"\\nWeather Data:\")\n",
    "display(weather_df.head())"
   ]
  },
  {
   "cell_type": "markdown",
   "metadata": {},
   "source": [
    "## 2. Train Forecasting Models\n",
    "Let's train the demand and production forecasting models."
   ]
  },
  {
   "cell_type": "code",
   "execution_count": null,
   "metadata": {},
   "outputs": [],
   "source": [
    "# Initialize forecasters\n",
    "demand_forecaster = EnergyDemandForecaster(model_type='prophet')\n",
    "solar_forecaster = SolarProductionForecaster(model_type='prophet')\n",
    "\n",
    "# Train models\n",
    "print(\"Training demand forecaster...\")\n",
    "demand_forecaster.fit(demand_df[['timestamp', 'demand_kwh']])\n",
    "\n",
    "print(\"Training solar production forecaster...\")\n",
    "solar_forecaster.fit(\n",
    "    solar_df[['timestamp', 'solar_production_kwh']],\n",
    "    weather_df[['timestamp', 'temperature', 'cloud_cover']]\n",
    ")\n",
    "\n",
    "print(\"Training complete!\")"
   ]
  },
  {
   "cell_type": "markdown",
   "metadata": {},
   "source": [
    "## 3. Generate Forecasts\n",
    "Now, let's generate forecasts for the next 24 hours."
   ]
  },
  {
   "cell_type": "code",
   "execution_count": null,
   "metadata": {},
   "outputs": [],
   "source": [
    "# Generate timestamps for the next 24 hours\n",
    "forecast_hours = pd.date_range(\n",
    "    pd.Timestamp.now().normalize(),\n",
    "    periods=24,\n",
    "    freq='H'\n",
    ")\n",
    "\n",
    "# Generate demand forecast\n",
    "demand_forecast = demand_forecaster.predict(forecast_hours)\n",
    "\n",
    "# Generate solar production forecast\n",
    "solar_forecast = solar_forecaster.predict(\n",
    "    forecast_hours,\n",
    "    weather_df[['timestamp', 'temperature', 'cloud_cover']]\n",
    ")\n",
    "\n",
    "# Plot the forecasts\n",
    "plt.figure(figsize=(12, 6))\n",
    "plt.plot(forecast_hours, demand_forecast, label='Demand Forecast')\n",
    "plt.plot(forecast_hours, solar_forecast, label='Solar Production Forecast')\n",
    "plt.title('24-Hour Energy Forecast')\n",
    "plt.xlabel('Time')\n",
    "plt.ylabel('Energy (kWh)')\n",
    "plt.legend()\n",
    "plt.grid(True)\n",
    "plt.xticks(rotation=45)\n",
    "plt.tight_layout()\n",
    "plt.show()"
   ]
  },
  {
   "cell_type": "markdown",
   "metadata": {},
   "source": [
    "## 4. Optimize Energy Usage\n",
    "Let's optimize the battery usage based on our forecasts."
   ]
  },
  {
   "cell_type": "code",
   "execution_count": null,
   "metadata": {},
   "outputs": [],
   "source": [
    "# Initialize the optimizer\n",
    "optimizer = EnergyOptimizer(\n",
    "    battery_capacity_kwh=10.0,\n",
    "    max_charge_rate_kw=5.0,\n",
    "    battery_efficiency=0.95,\n",
    "    initial_soc=0.5\n",
    ")\n",
    "\n",
    "# Create electricity prices (higher during peak hours)\n",
    "electricity_prices = pd.Series(\n",
    "    data=0.15 + 0.1 * np.sin(np.linspace(-np.pi/2, 3*np.pi/2, 24)),\n",
    "    index=forecast_hours\n",
    ")\n",
    "\n",
    "# Optimize the schedule\n",
    "schedule = optimizer.optimize_schedule(\n",
    "    demand_forecast=demand_forecast,\n",
    "    production_forecast=solar_forecast,\n",
    "    electricity_prices=electricity_prices\n",
    ")\n",
    "\n",
    "# Calculate savings\n",
    "savings = optimizer.calculate_savings(schedule, electricity_prices)\n",
    "\n",
    "# Display savings\n",
    "print(\"Optimization Results:\")\n",
    "print(f\"- Cost without optimization: ${savings['cost_without_optimization']:.2f}\")\n",
    "print(f\"- Cost with optimization: ${savings['cost_with_optimization']:.2f}\")\n",
    "print(f\"- Savings: ${savings['savings']:.2f} ({savings['savings_percent']:.1f}%)\")\n",
    "print(f\"- Self-consumption ratio: {savings['self_consumption_ratio']*100:.1f}%\")\n",
    "print(f\"- Autonomy ratio: {savings['autonomy_ratio']*100:.1f}%\")"
   ]
  },
  {
   "cell_type": "markdown",
   "metadata": {},
   "source": [
    "## 5. Visualize the Schedule\n",
    "Let's visualize the optimized schedule."
   ]
  },
  {
   "cell_type": "code",
   "execution_count": null,
   "metadata": {},
   "outputs": [],
   "source": [
    "# Create a DataFrame for visualization\n",
    "schedule_df = pd.DataFrame({\n",
    "    'Battery Charge': schedule['battery_charge'],\n",
    "    'Battery Discharge': schedule['battery_discharge'],\n",
    "    'Grid Import': schedule['grid_import'],\n",
    "    'Grid Export': -schedule['grid_export'],  # Negative for visualization\n",
    "    'Battery SOC': schedule['battery_soc'] * 100  # Convert to percentage\n",
    "}, index=forecast_hours)\n",
    "\n",
    "# Plot the schedule\n",
    "fig, (ax1, ax2) = plt.subplots(2, 1, figsize=(14, 10), gridspec_kw={'height_ratios': [2, 1]})\n",
    "\n",
    "# Plot energy flows\n",
    "schedule_df[['Battery Charge', 'Battery Discharge', 'Grid Import', 'Grid Export']].plot.bar(\n",
    "    stacked=True,\n",
    "    ax=ax1,\n",
    "    color=['green', 'red', 'blue', 'orange']\n",
    ")\n",
    "ax1.set_title('Optimized Energy Schedule')\n",
    "ax1.set_ylabel('Energy (kWh)')\n",
    "ax1.legend(title='Energy Flow')\n",
    "ax1.grid(True, which='both', linestyle='--', alpha=0.7)\n",
    "\n",
    "# Plot battery state of charge\n",
    "schedule_df['Battery SOC'].plot(\n",
    "    ax=ax2,\n",
    "    color='purple',\n",
    "    marker='o'\n",
    ")\n",
    "ax2.set_title('Battery State of Charge')\n",
    "ax2.set_ylabel('SOC (%)')\n",
    "ax2.set_ylim(0, 100)\n",
    "ax2.grid(True, which='both', linestyle='--', alpha=0.7)\n",
    "\n",
    "plt.tight_layout()\n",
    "plt.show()"
   ]
  },
  {
   "cell_type": "markdown",
   "metadata": {},
   "source": [
    "## 6. Run the Interactive Dashboard\n",
    "For a more interactive experience, you can run the web-based dashboard."
   ]
  },
  {
   "cell_type": "code",
   "execution_count": null,
   "metadata": {},
   "outputs": [],
   "source": [
    "# Uncomment and run the following line to start the dashboard\n",
    "# !python -m src.dashboard"
   ]
  }
 ],
 "metadata": {
  "kernelspec": {
   "display_name": "Python 3",
   "language": "python",
   "name": "python3"
  },
  "language_info": {
   "codemirror_mode": {
    "name": "ipython",
    "version": 3
   },
   "file_extension": ".py",
   "mimetype": "text/x-python",
   "name": "python",
   "nbconvert_exporter": "python",
   "pygments_lexer": "ipython3",
   "version": "3.8.0"
  }
 },
 "nbformat": 4,
 "nbformat_minor": 4
}
